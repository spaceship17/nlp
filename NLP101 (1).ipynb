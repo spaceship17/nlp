{
  "nbformat": 4,
  "nbformat_minor": 0,
  "metadata": {
    "colab": {
      "provenance": []
    },
    "kernelspec": {
      "name": "python3",
      "display_name": "Python 3"
    },
    "language_info": {
      "name": "python"
    }
  },
  "cells": [
    {
      "cell_type": "markdown",
      "source": [
        "from sklearn.feature_extraction.text import CountVectorizer"
      ],
      "metadata": {
        "id": "fMIwl0mYdi4_"
      }
    },
    {
      "cell_type": "code",
      "source": [
        "import numpy as np\n",
        "from sklearn.feature_extraction.text import CountVectorizer\n",
        "from sklearn import svm"
      ],
      "metadata": {
        "id": "v3j1gXs47C7E"
      },
      "execution_count": 161,
      "outputs": []
    },
    {
      "cell_type": "code",
      "source": [
        "class Category:\n",
        "  ELECTROSTATIC = \"ELECTROSTATIC\"\n",
        "  THERMODYNAMIC = \"THERMODYNAMIC\"\n",
        "\n",
        "train_x = [\"charge is conserve\",\"there are two types of charge\",\"zeroth law of thermodynamic\", \"first law of thermodynamic\"]\n",
        "train_y = [Category.ELECTROSTATIC, Category.ELECTROSTATIC, Category.THERMODYNAMIC, Category.THERMODYNAMIC]"
      ],
      "metadata": {
        "id": "xZ71BspDd9T9"
      },
      "execution_count": 162,
      "outputs": []
    },
    {
      "cell_type": "code",
      "source": [
        "vectorizer = CountVectorizer(binary =True)\n",
        "vectorizer = CountVectorizer(binary =True, ngram_range=(1,2))\n",
        "# vectors = vectorizer.fit_transform(train_x)\n",
        "train_x_vec = vectorizer.fit_transform(train_x)\n",
        "\n",
        "\n",
        "train_x_vec = train_x_vec.toarray()\n",
        "\n",
        "print(vectorizer.get_feature_names_out())\n",
        "\n",
        "print(train_x_vec)"
      ],
      "metadata": {
        "colab": {
          "base_uri": "https://localhost:8080/"
        },
        "id": "H23uOSPceOhl",
        "outputId": "49430098-ed4e-47a3-d466-f63b233a10ef"
      },
      "execution_count": 163,
      "outputs": [
        {
          "output_type": "stream",
          "name": "stdout",
          "text": [
            "['are' 'are two' 'charge' 'charge is' 'conserve' 'first' 'first law' 'is'\n",
            " 'is conserve' 'law' 'law of' 'of' 'of charge' 'of thermodynamic' 'there'\n",
            " 'there are' 'thermodynamic' 'two' 'two types' 'types' 'types of' 'zeroth'\n",
            " 'zeroth law']\n",
            "[[0 0 1 1 1 0 0 1 1 0 0 0 0 0 0 0 0 0 0 0 0 0 0]\n",
            " [1 1 1 0 0 0 0 0 0 0 0 1 1 0 1 1 0 1 1 1 1 0 0]\n",
            " [0 0 0 0 0 0 0 0 0 1 1 1 0 1 0 0 1 0 0 0 0 1 1]\n",
            " [0 0 0 0 0 1 1 0 0 1 1 1 0 1 0 0 1 0 0 0 0 0 0]]\n"
          ]
        }
      ]
    },
    {
      "cell_type": "code",
      "source": [
        "print(vectorizer.get_feature_names_out())\n",
        "\n",
        "print(train_x_vec[2])"
      ],
      "metadata": {
        "colab": {
          "base_uri": "https://localhost:8080/"
        },
        "id": "zLFq5i0Ve5Fm",
        "outputId": "8cd9056e-8c7e-47a8-fc09-f23b9c5bae98"
      },
      "execution_count": 164,
      "outputs": [
        {
          "output_type": "stream",
          "name": "stdout",
          "text": [
            "['are' 'are two' 'charge' 'charge is' 'conserve' 'first' 'first law' 'is'\n",
            " 'is conserve' 'law' 'law of' 'of' 'of charge' 'of thermodynamic' 'there'\n",
            " 'there are' 'thermodynamic' 'two' 'two types' 'types' 'types of' 'zeroth'\n",
            " 'zeroth law']\n",
            "[0 0 0 0 0 0 0 0 0 1 1 1 0 1 0 0 1 0 0 0 0 1 1]\n"
          ]
        }
      ]
    },
    {
      "cell_type": "code",
      "source": [
        "\n",
        "# Using the class which we define already\n",
        "# class Category:\n",
        "#   ELECTROSTATIC = \"ELECTROSTATIC\"\n",
        "#   NLM = \"NLM\"\n",
        "\n",
        "# train_x = [\"charge is conserve\",\"there are two types of charge\",\"force is a push or pull\", \"force is a vector quantity\"]\n",
        "# train_y = [Category.ELECTROSTATIC, Category.ELECTROSTATIC, Category.NLM, Category.NLM]\n",
        "\n",
        "# Vectorizing the text data\n",
        "vectorizer = CountVectorizer(binary=True)\n",
        "train_x_vec = vectorizer.fit_transform(train_x)\n",
        "\n",
        "# Converting to dense array\n",
        "train_x_vec = train_x_vec.toarray()\n",
        "\n",
        "# Creating an SVM classifier\n",
        "clf_svm = svm.SVC(kernel='linear')\n",
        "\n",
        "# Attempt to fit the SVM model and catch any potential errors\n",
        "try:\n",
        "    # Fit the SVM model\n",
        "    clf_svm.fit(train_x_vec, train_y)\n",
        "    fit_error = None\n",
        "except Exception as e:\n",
        "    fit_error = e\n",
        "\n"
      ],
      "metadata": {
        "id": "eAnviLh2fEyu"
      },
      "execution_count": 165,
      "outputs": []
    },
    {
      "cell_type": "code",
      "source": [
        "# Output the shapes of train_x_vec and train_y and any error message\n",
        "train_x_vec_shape = train_x_vec.shape\n",
        "train_y_shape = np.array(train_y).shape\n",
        "\n",
        "train_x_vec_shape, train_y_shape, fit_error if fit_error else \"No Error\""
      ],
      "metadata": {
        "colab": {
          "base_uri": "https://localhost:8080/"
        },
        "id": "xs1RAUUZ7QSV",
        "outputId": "64fc0986-3f8a-44df-ad8e-54a17d915eb1"
      },
      "execution_count": 166,
      "outputs": [
        {
          "output_type": "execute_result",
          "data": {
            "text/plain": [
              "((4, 12), (4,), 'No Error')"
            ]
          },
          "metadata": {},
          "execution_count": 166
        }
      ]
    },
    {
      "cell_type": "code",
      "source": [
        "test_x = vectorizer.transform(['opposite charge attracts']).toarray()  # Convert to dense array\n",
        "prediction = clf_svm.predict(test_x)\n",
        "print(prediction)\n",
        ""
      ],
      "metadata": {
        "colab": {
          "base_uri": "https://localhost:8080/"
        },
        "id": "d09fhPYDtgji",
        "outputId": "7bc8b7ec-6bca-4a88-d1f0-55cefca2a31b"
      },
      "execution_count": 167,
      "outputs": [
        {
          "output_type": "stream",
          "name": "stdout",
          "text": [
            "['ELECTROSTATIC']\n"
          ]
        }
      ]
    },
    {
      "cell_type": "code",
      "source": [
        "test_x = vectorizer.transform(['charge can cause electrostatic force']).toarray()\n",
        "clf_svm.predict(test_x)"
      ],
      "metadata": {
        "colab": {
          "base_uri": "https://localhost:8080/"
        },
        "id": "NAh8nDzl6Lqg",
        "outputId": "40b94b89-3e97-48f7-c57f-093ad417a0ab"
      },
      "execution_count": 168,
      "outputs": [
        {
          "output_type": "execute_result",
          "data": {
            "text/plain": [
              "array(['ELECTROSTATIC'], dtype='<U13')"
            ]
          },
          "metadata": {},
          "execution_count": 168
        }
      ]
    },
    {
      "cell_type": "markdown",
      "source": [
        "## As we can see above our model doesnt give us what we are looking for.\n",
        "# 1. We need to use other aprroach such as .. Word Vectors\n",
        "# What is does basically , it capture the semantic meaning of a word in a vector."
      ],
      "metadata": {
        "id": "8_7PTRvf8yVn"
      }
    },
    {
      "cell_type": "code",
      "source": [],
      "metadata": {
        "id": "rCAOY-S19_W3"
      },
      "execution_count": 169,
      "outputs": []
    }
  ]
}